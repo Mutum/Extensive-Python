{
 "cells": [
  {
   "cell_type": "markdown",
   "metadata": {},
   "source": [
    "### Project\n",
    "For this project you are given a file that contains some parking ticket violations for NYC.\n",
    "\n",
    "(It's just a tiny extract!)\n",
    "\n",
    "If you're wondering where I get these data sets, Kaggle is an excellent source of data sets in a whole variety of topics: https://www.kaggle.com/\n",
    "\n",
    "You have to sign up, but it's free.\n",
    "\n",
    "If you want the full data set, it's available here: https://www.kaggle.com/new-york-city/nyc-parking-tickets/version/2#\n",
    "\n",
    "For this sample data set, the file is named:\n",
    "\n",
    "nyc_parking_tickets_extract.csv\n",
    "Your goals are as follows:\n",
    "\n",
    "### Goal 1\n",
    "Create a lazy iterator that will return a named tuple of the data in each row. The data types should be appropriate - i.e. if the column is a date, you should be storing dates in the named tuple, if the field is an integer, then it should be stored as an integer, etc.\n",
    "\n",
    "### Goal 2\n",
    "Calculate the number of violations by car make.\n",
    "\n",
    "Note:\n",
    "Try to use lazy evaluation as much as possible - it may not always be possible though! That's OK, as long as it's kept to a minimum.\n",
    "\n",
    "\n",
    "\n"
   ]
  },
  {
   "cell_type": "code",
   "execution_count": 196,
   "metadata": {},
   "outputs": [],
   "source": [
    "file_name = 'nyc_parking_tickets_extract-1.csv'"
   ]
  },
  {
   "cell_type": "code",
   "execution_count": 197,
   "metadata": {},
   "outputs": [
    {
     "name": "stdout",
     "output_type": "stream",
     "text": [
      "Summons Number,Plate ID,Registration State,Plate Type,Issue Date,Violation Code,Vehicle Body Type,Vehicle Make,Violation Description\n",
      "\n",
      "4006478550,VAD7274,VA,PAS,10/5/2016,5,4D,BMW,BUS LANE VIOLATION\n",
      "\n",
      "4006462396,22834JK,NY,COM,9/30/2016,5,VAN,CHEVR,BUS LANE VIOLATION\n",
      "\n",
      "4007117810,21791MG,NY,COM,4/10/2017,5,VAN,DODGE,BUS LANE VIOLATION\n",
      "\n",
      "4006265037,FZX9232,NY,PAS,8/23/2016,5,SUBN,FORD,BUS LANE VIOLATION\n",
      "\n",
      "4006535600,N203399C,NY,OMT,10/19/2016,5,SUBN,FORD,BUS LANE VIOLATION\n",
      "\n",
      "4007156700,92163MG,NY,COM,4/13/2017,5,VAN,FRUEH,BUS LANE VIOLATION\n",
      "\n",
      "4006687989,MIQ600,SC,PAS,11/21/2016,5,VN,HONDA,BUS LANE VIOLATION\n",
      "\n",
      "4006943052,2AE3984,MD,PAS,2/1/2017,5,SW,LINCO,BUS LANE VIOLATION\n",
      "\n",
      "4007306795,HLG4926,NY,PAS,5/30/2017,5,SUBN,TOYOT,BUS LANE VIOLATION\n",
      "\n"
     ]
    }
   ],
   "source": [
    "# A peak in data\n",
    "\n",
    "with open(file_name) as f:\n",
    "    for row in range(10):\n",
    "        print(next(f))"
   ]
  },
  {
   "cell_type": "code",
   "execution_count": 198,
   "metadata": {},
   "outputs": [],
   "source": [
    "with open(file_name) as f:\n",
    "    column_headers = next(f).strip('\\n').split(',')\n",
    "    sample_data = next(f).strip('\\n').split(',')"
   ]
  },
  {
   "cell_type": "code",
   "execution_count": 199,
   "metadata": {},
   "outputs": [
    {
     "data": {
      "text/plain": [
       "['Summons Number',\n",
       " 'Plate ID',\n",
       " 'Registration State',\n",
       " 'Plate Type',\n",
       " 'Issue Date',\n",
       " 'Violation Code',\n",
       " 'Vehicle Body Type',\n",
       " 'Vehicle Make',\n",
       " 'Violation Description']"
      ]
     },
     "execution_count": 199,
     "metadata": {},
     "output_type": "execute_result"
    }
   ],
   "source": [
    "column_headers"
   ]
  },
  {
   "cell_type": "code",
   "execution_count": 200,
   "metadata": {},
   "outputs": [],
   "source": [
    "with open(file_name) as f:\n",
    "    col_names = next(f)"
   ]
  },
  {
   "cell_type": "code",
   "execution_count": 201,
   "metadata": {},
   "outputs": [
    {
     "data": {
      "text/plain": [
       "'Summons Number,Plate ID,Registration State,Plate Type,Issue Date,Violation Code,Vehicle Body Type,Vehicle Make,Violation Description\\n'"
      ]
     },
     "execution_count": 201,
     "metadata": {},
     "output_type": "execute_result"
    }
   ],
   "source": [
    "col_names"
   ]
  },
  {
   "cell_type": "code",
   "execution_count": 202,
   "metadata": {},
   "outputs": [
    {
     "data": {
      "text/plain": [
       "['Summons Number',\n",
       " 'Plate ID',\n",
       " 'Registration State',\n",
       " 'Plate Type',\n",
       " 'Issue Date',\n",
       " 'Violation Code',\n",
       " 'Vehicle Body Type',\n",
       " 'Vehicle Make',\n",
       " 'Violation Description']"
      ]
     },
     "execution_count": 202,
     "metadata": {},
     "output_type": "execute_result"
    }
   ],
   "source": [
    "[col.strip(\" \") for col in col_names.strip(\"\\n\").split(\",\")]"
   ]
  },
  {
   "cell_type": "code",
   "execution_count": 203,
   "metadata": {},
   "outputs": [],
   "source": [
    "with open(file_name) as f:\n",
    "    column_names =[col.strip(\" \") for col in next(f).strip(\"\\n\").split(\",\")]\n",
    "    data = [row.strip(\" \") for row in next(f).strip(\"\\n\").split(\",\")]"
   ]
  },
  {
   "cell_type": "code",
   "execution_count": 204,
   "metadata": {},
   "outputs": [
    {
     "data": {
      "text/plain": [
       "['Summons Number',\n",
       " 'Plate ID',\n",
       " 'Registration State',\n",
       " 'Plate Type',\n",
       " 'Issue Date',\n",
       " 'Violation Code',\n",
       " 'Vehicle Body Type',\n",
       " 'Vehicle Make',\n",
       " 'Violation Description']"
      ]
     },
     "execution_count": 204,
     "metadata": {},
     "output_type": "execute_result"
    }
   ],
   "source": [
    "list(column_names)"
   ]
  },
  {
   "cell_type": "code",
   "execution_count": 205,
   "metadata": {},
   "outputs": [
    {
     "data": {
      "text/plain": [
       "['4006478550',\n",
       " 'VAD7274',\n",
       " 'VA',\n",
       " 'PAS',\n",
       " '10/5/2016',\n",
       " '5',\n",
       " '4D',\n",
       " 'BMW',\n",
       " 'BUS LANE VIOLATION']"
      ]
     },
     "execution_count": 205,
     "metadata": {},
     "output_type": "execute_result"
    }
   ],
   "source": [
    "data"
   ]
  },
  {
   "cell_type": "code",
   "execution_count": 206,
   "metadata": {},
   "outputs": [
    {
     "data": {
      "text/plain": [
       "[('Summons Number', '4006478550'),\n",
       " ('Plate ID', 'VAD7274'),\n",
       " ('Registration State', 'VA'),\n",
       " ('Plate Type', 'PAS'),\n",
       " ('Issue Date', '10/5/2016'),\n",
       " ('Violation Code', '5'),\n",
       " ('Vehicle Body Type', '4D'),\n",
       " ('Vehicle Make', 'BMW'),\n",
       " ('Violation Description', 'BUS LANE VIOLATION')]"
      ]
     },
     "execution_count": 206,
     "metadata": {},
     "output_type": "execute_result"
    }
   ],
   "source": [
    "list(zip(column_names, data))"
   ]
  },
  {
   "cell_type": "markdown",
   "metadata": {},
   "source": [
    "### data types to be set for each of these fields:\n",
    "\n",
    "1. Summons Number: integers\n",
    "2. Plate ID: string\n",
    "3. Registration State: string\n",
    "4. Plate Type: string\n",
    "5. Issue Date: dates\n",
    "6. Violation Code: integers\n",
    "7. Vehicle Body Type: string\n",
    "8. Vehicle Make: string\n",
    "9. Violation Description: string"
   ]
  },
  {
   "cell_type": "code",
   "execution_count": 207,
   "metadata": {},
   "outputs": [],
   "source": [
    "def read_data():\n",
    "    with open(file_name) as f:\n",
    "        next(f)\n",
    "        yield from f"
   ]
  },
  {
   "cell_type": "code",
   "execution_count": 208,
   "metadata": {},
   "outputs": [
    {
     "name": "stdout",
     "output_type": "stream",
     "text": [
      "4006478550,VAD7274,VA,PAS,10/5/2016,5,4D,BMW,BUS LANE VIOLATION\n",
      "\n",
      "4006462396,22834JK,NY,COM,9/30/2016,5,VAN,CHEVR,BUS LANE VIOLATION\n",
      "\n",
      "4007117810,21791MG,NY,COM,4/10/2017,5,VAN,DODGE,BUS LANE VIOLATION\n",
      "\n",
      "4006265037,FZX9232,NY,PAS,8/23/2016,5,SUBN,FORD,BUS LANE VIOLATION\n",
      "\n",
      "4006535600,N203399C,NY,OMT,10/19/2016,5,SUBN,FORD,BUS LANE VIOLATION\n",
      "\n"
     ]
    }
   ],
   "source": [
    "raw_data = read_data()\n",
    "for _ in range(5):\n",
    "    print(next(raw_data))"
   ]
  },
  {
   "cell_type": "markdown",
   "metadata": {},
   "source": [
    "### Column parser to set appropriate format"
   ]
  },
  {
   "cell_type": "code",
   "execution_count": 209,
   "metadata": {},
   "outputs": [],
   "source": [
    "def parse_int(value,default=None):\n",
    "    \n",
    "    \n",
    "    try:\n",
    "        return int(value)\n",
    "    except ValueError:\n",
    "        return default"
   ]
  },
  {
   "cell_type": "code",
   "execution_count": 210,
   "metadata": {},
   "outputs": [],
   "source": [
    "from datetime import datetime\n",
    "\n",
    "def parse_date(value,default=None):\n",
    "    \n",
    "    date_format='%m/%d/%Y'\n",
    "    try:\n",
    "        return datetime.strptime(value, date_format).date()\n",
    "    except ValueError:\n",
    "        return default"
   ]
  },
  {
   "cell_type": "code",
   "execution_count": 211,
   "metadata": {},
   "outputs": [],
   "source": [
    "def parse_string(value,default=None):\n",
    "    \n",
    "    try:\n",
    "        clean = str(value).strip()\n",
    "        if not clean:\n",
    "            return default\n",
    "        else:\n",
    "            return clean\n",
    "    except ValueError:\n",
    "        return default"
   ]
  },
  {
   "cell_type": "code",
   "execution_count": 212,
   "metadata": {},
   "outputs": [],
   "source": [
    "# default is None\n",
    "\n",
    "column_parsers = (parse_int,  \n",
    "                  parse_string, \n",
    "                  parse_string,  \n",
    "                  parse_string, \n",
    "                  parse_date,  \n",
    "                  parse_int,  \n",
    "                  parse_string, \n",
    "                  parse_string, \n",
    "                  parse_string \n",
    "                 )"
   ]
  },
  {
   "cell_type": "markdown",
   "metadata": {},
   "source": [
    "### row parser to applied above column parser to each column`s value"
   ]
  },
  {
   "cell_type": "code",
   "execution_count": 213,
   "metadata": {},
   "outputs": [],
   "source": [
    "def parse_row(row):\n",
    "    \n",
    "    fields = row.strip('\\n').split(',')\n",
    "    parsed_data = (func(field) \n",
    "                   for func, field in zip(column_parsers, fields))\n",
    "    return parsed_data"
   ]
  },
  {
   "cell_type": "code",
   "execution_count": 214,
   "metadata": {},
   "outputs": [
    {
     "name": "stdout",
     "output_type": "stream",
     "text": [
      "[4006478550, 'VAD7274', 'VA', 'PAS', datetime.date(2016, 10, 5), 5, '4D', 'BMW', 'BUS LANE VIOLATION']\n",
      "[4006462396, '22834JK', 'NY', 'COM', datetime.date(2016, 9, 30), 5, 'VAN', 'CHEVR', 'BUS LANE VIOLATION']\n",
      "[4007117810, '21791MG', 'NY', 'COM', datetime.date(2017, 4, 10), 5, 'VAN', 'DODGE', 'BUS LANE VIOLATION']\n",
      "[4006265037, 'FZX9232', 'NY', 'PAS', datetime.date(2016, 8, 23), 5, 'SUBN', 'FORD', 'BUS LANE VIOLATION']\n",
      "[4006535600, 'N203399C', 'NY', 'OMT', datetime.date(2016, 10, 19), 5, 'SUBN', 'FORD', 'BUS LANE VIOLATION']\n"
     ]
    }
   ],
   "source": [
    "rows = read_data()\n",
    "\n",
    "for _ in range(5):\n",
    "    row = next(rows)\n",
    "    parsed_data = parse_row(row)\n",
    "    print(list(parsed_data))"
   ]
  },
  {
   "cell_type": "markdown",
   "metadata": {},
   "source": [
    "## create generator "
   ]
  },
  {
   "cell_type": "code",
   "execution_count": 215,
   "metadata": {},
   "outputs": [],
   "source": [
    "def parse_rows_gen():\n",
    "    for row in read_data():\n",
    "        yield zip(column_names,parse_row(row))"
   ]
  },
  {
   "cell_type": "code",
   "execution_count": 216,
   "metadata": {},
   "outputs": [
    {
     "name": "stdout",
     "output_type": "stream",
     "text": [
      "[('Summons Number', 4006478550), ('Plate ID', 'VAD7274'), ('Registration State', 'VA'), ('Plate Type', 'PAS'), ('Issue Date', datetime.date(2016, 10, 5)), ('Violation Code', 5), ('Vehicle Body Type', '4D'), ('Vehicle Make', 'BMW'), ('Violation Description', 'BUS LANE VIOLATION')]\n",
      "[('Summons Number', 4006462396), ('Plate ID', '22834JK'), ('Registration State', 'NY'), ('Plate Type', 'COM'), ('Issue Date', datetime.date(2016, 9, 30)), ('Violation Code', 5), ('Vehicle Body Type', 'VAN'), ('Vehicle Make', 'CHEVR'), ('Violation Description', 'BUS LANE VIOLATION')]\n",
      "[('Summons Number', 4007117810), ('Plate ID', '21791MG'), ('Registration State', 'NY'), ('Plate Type', 'COM'), ('Issue Date', datetime.date(2017, 4, 10)), ('Violation Code', 5), ('Vehicle Body Type', 'VAN'), ('Vehicle Make', 'DODGE'), ('Violation Description', 'BUS LANE VIOLATION')]\n",
      "[('Summons Number', 4006265037), ('Plate ID', 'FZX9232'), ('Registration State', 'NY'), ('Plate Type', 'PAS'), ('Issue Date', datetime.date(2016, 8, 23)), ('Violation Code', 5), ('Vehicle Body Type', 'SUBN'), ('Vehicle Make', 'FORD'), ('Violation Description', 'BUS LANE VIOLATION')]\n",
      "[('Summons Number', 4006535600), ('Plate ID', 'N203399C'), ('Registration State', 'NY'), ('Plate Type', 'OMT'), ('Issue Date', datetime.date(2016, 10, 19)), ('Violation Code', 5), ('Vehicle Body Type', 'SUBN'), ('Vehicle Make', 'FORD'), ('Violation Description', 'BUS LANE VIOLATION')]\n"
     ]
    }
   ],
   "source": [
    "parsed_rows = parse_rows_gen()\n",
    "for i in range(5):\n",
    "    print(list(next(parsed_rows)))"
   ]
  },
  {
   "cell_type": "markdown",
   "metadata": {},
   "source": [
    "## Goal 2: \n",
    "Calculating Number of Violations by Car Make"
   ]
  },
  {
   "cell_type": "code",
   "execution_count": 217,
   "metadata": {},
   "outputs": [
    {
     "name": "stdout",
     "output_type": "stream",
     "text": [
      "('Vehicle Make', 'BMW')\n",
      "('Vehicle Make', 'CHEVR')\n",
      "('Vehicle Make', 'DODGE')\n",
      "('Vehicle Make', 'FORD')\n",
      "('Vehicle Make', 'FORD')\n",
      "('Vehicle Make', 'FRUEH')\n",
      "('Vehicle Make', 'HONDA')\n",
      "('Vehicle Make', 'LINCO')\n",
      "('Vehicle Make', 'TOYOT')\n",
      "('Vehicle Make', 'TOYOT')\n"
     ]
    }
   ],
   "source": [
    "parsed_rows = parse_rows_gen()\n",
    "for i in range(10):\n",
    "    print(list(next(parsed_rows))[7])"
   ]
  },
  {
   "cell_type": "code",
   "execution_count": 218,
   "metadata": {},
   "outputs": [],
   "source": [
    "violations_counts= {}"
   ]
  },
  {
   "cell_type": "code",
   "execution_count": 219,
   "metadata": {},
   "outputs": [],
   "source": [
    "for rows in parsed_rows:\n",
    "    data = list(next(parsed_rows))[7]\n",
    "    #print(data)\n",
    "    if data[1] in violations_counts:\n",
    "        #print(data[0])\n",
    "        violations_counts[data[1]] += 1\n",
    "    else:\n",
    "        violations_counts[data[1]] = 1\n",
    "        "
   ]
  },
  {
   "cell_type": "code",
   "execution_count": 220,
   "metadata": {},
   "outputs": [
    {
     "data": {
      "text/plain": [
       "{'CHEVR': 40,\n",
       " 'CHRYS': 7,\n",
       " 'DODGE': 21,\n",
       " 'FIR': 1,\n",
       " 'FORD': 51,\n",
       " 'HONDA': 51,\n",
       " 'HYUND': 18,\n",
       " 'JAGUA': 3,\n",
       " 'JEEP': 11,\n",
       " 'LEXUS': 13,\n",
       " 'ME/BE': 18,\n",
       " 'MERCU': 3,\n",
       " 'NISSA': 34,\n",
       " 'TOYOT': 53,\n",
       " 'HIN': 5,\n",
       " 'WORKH': 1,\n",
       " 'AUDI': 7,\n",
       " 'BMW': 15,\n",
       " 'FRUEH': 21,\n",
       " 'GMC': 18,\n",
       " 'INTER': 11,\n",
       " 'ISUZU': 4,\n",
       " 'KENWO': 3,\n",
       " 'NS/OT': 9,\n",
       " 'OLDSM': 1,\n",
       " 'SUBAR': 10,\n",
       " 'VOLVO': 6,\n",
       " 'SATUR': 2,\n",
       " 'INFIN': 6,\n",
       " 'PETER': 1,\n",
       " 'ACURA': 7,\n",
       " 'CADIL': 4,\n",
       " 'KIA': 3,\n",
       " 'BUICK': 3,\n",
       " 'LINCO': 6,\n",
       " 'MAZDA': 2,\n",
       " 'SMART': 2,\n",
       " 'VOLKS': 4,\n",
       " 'YAMAH': 1,\n",
       " 'ROVER': 2,\n",
       " 'MINI': 1,\n",
       " 'SPRI': 1,\n",
       " 'PLYMO': 1,\n",
       " 'SCION': 1,\n",
       " 'MITSU': 4,\n",
       " 'PORSC': 1,\n",
       " 'UPS': 1,\n",
       " 'UD': 1,\n",
       " None: 1,\n",
       " 'STAR': 1,\n",
       " 'SAAB': 1,\n",
       " 'AM/T': 1,\n",
       " 'HINO': 1,\n",
       " 'MI/F': 1}"
      ]
     },
     "execution_count": 220,
     "metadata": {},
     "output_type": "execute_result"
    }
   ],
   "source": [
    "violations_counts"
   ]
  },
  {
   "cell_type": "code",
   "execution_count": null,
   "metadata": {},
   "outputs": [],
   "source": []
  }
 ],
 "metadata": {
  "kernelspec": {
   "display_name": "Python 3",
   "language": "python",
   "name": "python3"
  },
  "language_info": {
   "codemirror_mode": {
    "name": "ipython",
    "version": 3
   },
   "file_extension": ".py",
   "mimetype": "text/x-python",
   "name": "python",
   "nbconvert_exporter": "python",
   "pygments_lexer": "ipython3",
   "version": "3.7.7"
  }
 },
 "nbformat": 4,
 "nbformat_minor": 4
}
