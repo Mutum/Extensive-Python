{
 "cells": [
  {
   "cell_type": "code",
   "execution_count": 4,
   "metadata": {},
   "outputs": [],
   "source": [
    "from functools import partial\n",
    "from datetime import datetime\n",
    "\n",
    "import arguments\n",
    "from parse_utils import group_data\n",
    "\n"
   ]
  },
  {
   "cell_type": "code",
   "execution_count": 5,
   "metadata": {},
   "outputs": [],
   "source": [
    "def group_key(row):\n",
    "    return row.vehicle_make\n",
    "\n",
    "\n",
    "def filter_key(cutoff_date, gender, row):\n",
    "    return row.last_updated >= cutoff_date and row.gender == gender\n"
   ]
  },
  {
   "cell_type": "code",
   "execution_count": 6,
   "metadata": {},
   "outputs": [
    {
     "name": "stdout",
     "output_type": "stream",
     "text": [
      "************ Female ************\n",
      "[('Chevrolet', 42), ('Ford', 42), ('GMC', 22), ('Mitsubishi', 22), ('Toyota', 20), ('Dodge', 17), ('Mercedes-Benz', 17), ('Lexus', 15), ('Pontiac', 14), ('Audi', 13), ('Mazda', 13), ('Volvo', 13), ('BMW', 12), ('Nissan', 12), ('Suzuki', 12), ('Buick', 11), ('Volkswagen', 10), ('Acura', 9), ('Infiniti', 9), ('Kia', 9), ('Honda', 8), ('Land Rover', 8), ('Oldsmobile', 8), ('Cadillac', 6), ('Chrysler', 6), ('Subaru', 6), ('Jeep', 5), ('Lotus', 5), ('Mercury', 5), ('Bentley', 4), ('Hyundai', 4), ('Lincoln', 4), ('Isuzu', 3), ('Jaguar', 3), ('Plymouth', 3), ('Porsche', 3), ('Saab', 3), ('Saturn', 3), ('Aston Martin', 2), ('Lamborghini', 2), ('Scion', 2), ('Austin', 1), ('Bugatti', 1), ('Eagle', 1), ('Geo', 1), ('Morgan', 1), ('Panoz', 1), ('Rolls-Royce', 1)]\n",
      "************ Male ************\n",
      "[('Ford', 40), ('Chevrolet', 30), ('GMC', 28), ('Mitsubishi', 28), ('Dodge', 22), ('Toyota', 21), ('Mercedes-Benz', 19), ('Volkswagen', 16), ('Audi', 14), ('Buick', 13), ('Mazda', 13), ('BMW', 12), ('Mercury', 11), ('Pontiac', 11), ('Volvo', 10), ('Cadillac', 9), ('Honda', 9), ('Hyundai', 8), ('Saab', 8), ('Subaru', 8), ('Acura', 7), ('Infiniti', 7), ('Jeep', 7), ('Lexus', 6), ('Nissan', 6), ('Kia', 5), ('Lincoln', 5), ('Lotus', 5), ('Oldsmobile', 5), ('Jaguar', 4), ('Lamborghini', 4), ('Plymouth', 4), ('Porsche', 4), ('Aston Martin', 3), ('Bentley', 3), ('Chrysler', 3), ('Isuzu', 3), ('Land Rover', 3), ('Maserati', 3), ('Saturn', 3), ('Geo', 2), ('Maybach', 2), ('Panoz', 2), ('Suzuki', 2), ('Aptera', 1), ('Austin', 1), ('Corbin', 1), ('Daewoo', 1), ('Eagle', 1), ('Jensen', 1), ('Rolls-Royce', 1), ('Scion', 1), ('Smart', 1)]\n"
     ]
    }
   ],
   "source": [
    "\n",
    "cutoff_date = datetime(2017, 3, 1)\n",
    "\n",
    "for gender in ('Female', 'Male'):\n",
    "    results = group_data(arguments.fnames, arguments.class_names,\n",
    "                         arguments.parsers, arguments.compress_fields,\n",
    "                         filter_key=partial(filter_key, cutoff_date, gender),\n",
    "                         group_key=lambda row: row.vehicle_make)\n",
    "    print(f'************ {gender} ************')\n",
    "    print(list(results))"
   ]
  },
  {
   "cell_type": "code",
   "execution_count": null,
   "metadata": {},
   "outputs": [],
   "source": []
  }
 ],
 "metadata": {
  "kernelspec": {
   "display_name": "Python 3",
   "language": "python",
   "name": "python3"
  },
  "language_info": {
   "codemirror_mode": {
    "name": "ipython",
    "version": 3
   },
   "file_extension": ".py",
   "mimetype": "text/x-python",
   "name": "python",
   "nbconvert_exporter": "python",
   "pygments_lexer": "ipython3",
   "version": "3.7.7"
  }
 },
 "nbformat": 4,
 "nbformat_minor": 4
}
