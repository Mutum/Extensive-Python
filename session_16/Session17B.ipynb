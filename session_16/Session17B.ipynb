{
 "cells": [
  {
   "cell_type": "markdown",
   "metadata": {},
   "source": [
    "\n",
    "### Assignment 17 B\n",
    "\n",
    "### Assignment B (1000 points)\n",
    "\n",
    "- Look at this sample file: sample.py Preview the documentYou are to write such examples, where you describe the code to be written (starts with #), and the code it should generate. The file shows 3 examples of what text should generate what code. \n",
    "- write 100 such examples. These are the requirements:\n",
    "    - if you want the code to print something, then mention \"print\" in the text\n",
    "    - read the sample.py clearly to see the examples and learn from it. If you want the code to write a program, you are NOT  asking to write a function. If you want a function, please mention it. \n",
    "    - run the code in the terminal/notebook and make sure it runs!\n",
    "     - you cannot write more than 5 simple functions like add 2/3/4/5 numbers or divide, etc. Try and think of something tough, for example, add a list or tuple together. \n",
    "    - stick to python only (no 3rd party library like numpy, etc)\n",
    "    - here are some examples:\n",
    "        - provide the length of list, dict, tuple, etc\n",
    "        - write a function to sort a list\n",
    "        - write a function to test the time it takes to run a function\n",
    "        - write a program to remove stop words from a sentence provided,\n",
    "        - etc\n",
    "- This assignment is of 900 marks. Each example if 9 marks. If your example is similar to someone else, then you score less. The formula we will use is 9/(repeated example). That means if 9 people write same example, then you get only \n",
    "    - 1. So think different! (if examples are mentioned here and in the sample file, you will score less)\n",
    "- 3. Once done, please upload the file to github and share another link on the LMS"
   ]
  },
  {
   "cell_type": "markdown",
   "metadata": {},
   "source": [
    "90 python code snippet"
   ]
  },
  {
   "cell_type": "code",
   "execution_count": 56,
   "metadata": {},
   "outputs": [
    {
     "name": "stdout",
     "output_type": "stream",
     "text": [
      "['Epai', 'is', 'awesome', 'thanks']\n",
      "['is', 'awesome', 'thanks']\n"
     ]
    }
   ],
   "source": [
    "# Create an python empty list. Extend 4 strings list  to the list. Then pop one item off the end\n",
    "# of the list.print the append and last list after pop\n",
    "\n",
    "import random\n",
    "\n",
    "empty = []\n",
    "strings = [\"Epai\",\"is\",\"awesome\",\"thanks\"]\n",
    "empty.extend(strings)\n",
    "print(empty)\n",
    "empty.pop(random.randint(0,len(empty)-1))\n",
    "print(empty)"
   ]
  },
  {
   "cell_type": "code",
   "execution_count": 57,
   "metadata": {},
   "outputs": [
    {
     "name": "stdout",
     "output_type": "stream",
     "text": [
      "5\n",
      "6\n",
      "7\n",
      "8\n",
      "9\n",
      "10\n",
      "11\n",
      "12\n",
      "13\n",
      "14\n",
      "15\n"
     ]
    }
   ],
   "source": [
    "# Use the python 'for' statement to print the items in a list , construct the list with list comprehension\n",
    "\n",
    "list_ = [num for num in range(5,16)]\n",
    "for num in list_:\n",
    "    print(num)"
   ]
  },
  {
   "cell_type": "code",
   "execution_count": 58,
   "metadata": {},
   "outputs": [
    {
     "data": {
      "text/plain": [
       "'Epai is awesome thanks'"
      ]
     },
     "execution_count": 58,
     "metadata": {},
     "output_type": "execute_result"
    }
   ],
   "source": [
    "#  Use the python string join operation to concatenate the items in a list.\n",
    "\n",
    "list_ = [\"Epai\",\"is\",\"awesome\",\"thanks\"]\n",
    "\" \".join(list_)"
   ]
  },
  {
   "cell_type": "code",
   "execution_count": 59,
   "metadata": {},
   "outputs": [
    {
     "name": "stdout",
     "output_type": "stream",
     "text": [
      " \"Epai\" is 'awesome', thanks\n"
     ]
    }
   ],
   "source": [
    "# construct a python string containing single and double qoute, print the string\n",
    "\n",
    "string = ' \"Epai\" is \\'awesome\\', thanks'\n",
    "print(string)"
   ]
  },
  {
   "cell_type": "code",
   "execution_count": 60,
   "metadata": {},
   "outputs": [
    {
     "data": {
      "text/plain": [
       "'Epai:is:awesome:thanks'"
      ]
     },
     "execution_count": 60,
     "metadata": {},
     "output_type": "execute_result"
    }
   ],
   "source": [
    "# In python, Use the string join operation to create a string that contains a colon as a separator.\n",
    "\n",
    "strings = [\"Epai\",\"is\",\"awesome\",\"thanks\"]\n",
    "\":\".join(strings)"
   ]
  },
  {
   "cell_type": "code",
   "execution_count": 61,
   "metadata": {},
   "outputs": [
    {
     "name": "stdout",
     "output_type": "stream",
     "text": [
      "My first and last name is Mutum Ema\n"
     ]
    }
   ],
   "source": [
    "#  In python,Use printf to produce a string containing your last and first names,separated by a comma\n",
    "\n",
    "first = 'Mutum'\n",
    "last = 'Ema'\n",
    "\n",
    "print(f'My first and last name is {first} {last}')"
   ]
  },
  {
   "cell_type": "code",
   "execution_count": 62,
   "metadata": {},
   "outputs": [
    {
     "name": "stdout",
     "output_type": "stream",
     "text": [
      "{'Mutum': 'Ema', 'Tom': 'Mendes'}\n"
     ]
    }
   ],
   "source": [
    "# Write a python literal that defines a dictionary using both string literals and variables\n",
    "# containing strings . Print the dictionary\n",
    "\n",
    "first = 'Mutum'\n",
    "last = 'Ema'\n",
    "\n",
    "dct = {first:last , \"Tom\":\"Mendes\"}\n",
    "\n",
    "print(dct)"
   ]
  },
  {
   "cell_type": "code",
   "execution_count": 63,
   "metadata": {},
   "outputs": [
    {
     "name": "stdout",
     "output_type": "stream",
     "text": [
      "Mutum\n",
      "Tom\n",
      "Ema\n",
      "Mendes\n",
      "Mutum Ema\n",
      "Tom Mendes\n"
     ]
    }
   ],
   "source": [
    "# Write python statements that iterate over keys, values, and  items in a dictionary.\n",
    "\n",
    "dct = {first:last , \"Tom\":\"Mendes\"}\n",
    "\n",
    "for key in dct.keys():\n",
    "    print(key)\n",
    "    \n",
    "for val in dct.values():\n",
    "    print(val)    \n",
    "    \n",
    "for key,val in dct.items():\n",
    "    print(key,val)    "
   ]
  },
  {
   "cell_type": "code",
   "execution_count": 64,
   "metadata": {},
   "outputs": [
    {
     "name": "stdout",
     "output_type": "stream",
     "text": [
      "{'color': 'blue', 'fruit': 'apple', 'pet': 'dog'}\n"
     ]
    }
   ],
   "source": [
    "# write python statement to create dictionary from two list using list comprehension . print the dictionary\n",
    "\n",
    "objects = ['blue', 'apple', 'dog']\n",
    "categories = ['color', 'fruit', 'pet']\n",
    "a_dict = {key: value for key, value in zip(categories, objects)}\n",
    "print(a_dict)"
   ]
  },
  {
   "cell_type": "code",
   "execution_count": 65,
   "metadata": {},
   "outputs": [],
   "source": [
    "# write python functioin to create dictionary from two list using list comprehension .\n",
    "\n",
    "def dic_list(a,b):\n",
    "    return { key:value for key,value in zip(a,b)}"
   ]
  },
  {
   "cell_type": "code",
   "execution_count": 66,
   "metadata": {},
   "outputs": [
    {
     "name": "stdout",
     "output_type": "stream",
     "text": [
      "[21, 22, 23, 24, 25, 26, 27, 28, 29, 30, 31, 32, 33, 34, 35, 36, 37, 38, 39, 40, 41, 42, 43, 44, 45, 46, 47, 48, 49, 50, 51, 52, 53, 54, 55, 56, 57, 58, 59, 60, 61, 62, 63, 64, 65, 66, 67, 68, 69]\n"
     ]
    }
   ],
   "source": [
    "# Write a python list comprehension that returns all the keys in a dictionary whose associated values are greater than zero.\n",
    "# print the result\n",
    "\n",
    "list_ = {key:val for key,val in zip(range(70),range(-20,50))}\n",
    "\n",
    "result = [key for key,val in list_.items() if val > 0]\n",
    "print(result)"
   ]
  },
  {
   "cell_type": "code",
   "execution_count": 67,
   "metadata": {},
   "outputs": [],
   "source": [
    "#  Write a python function that returns all the keys in a dictionary whose associated values are greater than zero.\n",
    "\n",
    "def non_zero_value(x):\n",
    "    return [key for key,val in x.items() if val > 0]\n"
   ]
  },
  {
   "cell_type": "code",
   "execution_count": 68,
   "metadata": {},
   "outputs": [
    {
     "name": "stdout",
     "output_type": "stream",
     "text": [
      "[0, 2, 4, 6, 8, 10]\n"
     ]
    }
   ],
   "source": [
    "# Write a python list comprehension that produces even integers from 0 to 10. \n",
    "# print the result\n",
    "\n",
    "result = [x for x in range(0,11) if x%2==0]\n",
    "print(result)"
   ]
  },
  {
   "cell_type": "code",
   "execution_count": 69,
   "metadata": {},
   "outputs": [],
   "source": [
    "# Write a python function that produces even integers from 0 to 10.\n",
    "\n",
    "def even_num_untill_10():\n",
    "    return [y for y in range(11) if y%2 == 0]\n"
   ]
  },
  {
   "cell_type": "code",
   "execution_count": 70,
   "metadata": {},
   "outputs": [
    {
     "name": "stdout",
     "output_type": "stream",
     "text": [
      "[(0, 0), (0, 1), (0, 2), (0, 3), (1, 0), (1, 1), (1, 2), (1, 3), (2, 0), (2, 1), (2, 2), (2, 3)]\n"
     ]
    }
   ],
   "source": [
    "# Write a pyton list comprehension that iterates over two lists and produces all the\n",
    "# combinations of items from the lists.print the combination\n",
    "\n",
    "list_1 = list(range(3))\n",
    "list_2 = list(range(4))\n",
    "\n",
    "result = [(x,y) for x  in list_1 for y in list_2]\n",
    "print(result)\n"
   ]
  },
  {
   "cell_type": "code",
   "execution_count": 71,
   "metadata": {},
   "outputs": [],
   "source": [
    "# Write a pyton function that iterates over two lists and produces all the\n",
    "# combinations of items from the lists\n",
    "\n",
    "def combination(x,y):\n",
    "    return [(a,b) for a in x for b in y]"
   ]
  },
  {
   "cell_type": "code",
   "execution_count": 72,
   "metadata": {},
   "outputs": [
    {
     "name": "stdout",
     "output_type": "stream",
     "text": [
      "55\n",
      "52\n"
     ]
    }
   ],
   "source": [
    "# Write a python statement to strip all the whitespace characters off the right end of a string.\n",
    "# print the len\n",
    "\n",
    "strings = 'Write a python statement to strip all the whitespace  \\n'\n",
    "print(len(strings))\n",
    "result = strings.rstrip()\n",
    "print(len(result))"
   ]
  },
  {
   "cell_type": "code",
   "execution_count": 73,
   "metadata": {},
   "outputs": [],
   "source": [
    "# Write a python functioin to strip all the whitespace characters off the right end of a string.\n",
    "\n",
    "def rstrip_str(x):\n",
    "    return x.rstrip()"
   ]
  },
  {
   "cell_type": "code",
   "execution_count": 74,
   "metadata": {},
   "outputs": [
    {
     "data": {
      "text/plain": [
       "'  Mutum   '"
      ]
     },
     "execution_count": 74,
     "metadata": {},
     "output_type": "execute_result"
    }
   ],
   "source": [
    "# Wire a python statement to center a short string within a longer string, that is, pad a short string with blank\n",
    "# characters on both right and left to center it.\n",
    "\n",
    "name = 'Mutum'\n",
    "name.center(10)"
   ]
  },
  {
   "cell_type": "code",
   "execution_count": 75,
   "metadata": {},
   "outputs": [],
   "source": [
    "# Write a python function to center a short string within a longer string, that is, pad a short string with blank\n",
    "# characters on both right and left to center it.\n",
    "\n",
    "def center_str(x,length = None):\n",
    "    \n",
    "    if length:\n",
    "        return x.center(lenght)\n",
    "    else:\n",
    "        return x.center(0)"
   ]
  },
  {
   "cell_type": "code",
   "execution_count": 76,
   "metadata": {},
   "outputs": [],
   "source": [
    "# write a python function to Split a string into a list of \"words\".\n",
    "\n",
    "def split_str(x , sep = \" \"):\n",
    "    return x.split(sep=sep)\n"
   ]
  },
  {
   "cell_type": "code",
   "execution_count": 77,
   "metadata": {},
   "outputs": [
    {
     "data": {
      "text/plain": [
       "2"
      ]
     },
     "execution_count": 77,
     "metadata": {},
     "output_type": "execute_result"
    }
   ],
   "source": [
    "# write a python statement counting number of  None in a list\n",
    "\n",
    "a = [11, None, 'abc', None, {}]\n",
    "sum([x== None for x in a])"
   ]
  },
  {
   "cell_type": "code",
   "execution_count": 78,
   "metadata": {},
   "outputs": [],
   "source": [
    "#  write a python function for counting number of  None in a list\n",
    "\n",
    "def none_count(x):\n",
    "    return sum([y==None for y in x])"
   ]
  },
  {
   "cell_type": "code",
   "execution_count": 79,
   "metadata": {},
   "outputs": [
    {
     "name": "stdout",
     "output_type": "stream",
     "text": [
      "11\n",
      "22\n",
      "33\n"
     ]
    }
   ],
   "source": [
    "# write a python statement a list of integers. Use a for: statement to print out each integer in the list.\n",
    "\n",
    "\n",
    "a = [11, 22, 33, ]\n",
    "\n",
    "for val in a:\n",
    "    if type(val)== int:\n",
    "        print(val)"
   ]
  },
  {
   "cell_type": "code",
   "execution_count": 80,
   "metadata": {},
   "outputs": [],
   "source": [
    "# write a python function a list of integers. Use a for: statement to print out each integer in the list.\n",
    "\n",
    "def find_int(x):\n",
    "    return [y for y in x if type(y)== int]\n"
   ]
  },
  {
   "cell_type": "code",
   "execution_count": 81,
   "metadata": {},
   "outputs": [
    {
     "data": {
      "text/plain": [
       "49995000"
      ]
     },
     "execution_count": 81,
     "metadata": {},
     "output_type": "execute_result"
    }
   ],
   "source": [
    "# write a python statement to find sum of all the integers from 0 to 99999.\n",
    "\n",
    "sum([x for x in range(10000)])"
   ]
  },
  {
   "cell_type": "code",
   "execution_count": 82,
   "metadata": {},
   "outputs": [],
   "source": [
    "# write a python function to find sum of all the integers from 0 to 99999.\n",
    "\n",
    "def sum_10k():\n",
    "    return sum([x for x in range(10000)])\n"
   ]
  },
  {
   "cell_type": "code",
   "execution_count": 83,
   "metadata": {},
   "outputs": [],
   "source": [
    "# write a python function to find lenght of any object given in the arguments\n",
    "\n",
    "def len_list(*args):\n",
    "    \n",
    "    result = []\n",
    "\n",
    "    for arg in args:\n",
    "        result.append(len(arg))\n",
    "        \n",
    "    return result"
   ]
  },
  {
   "cell_type": "code",
   "execution_count": 84,
   "metadata": {},
   "outputs": [
    {
     "data": {
      "text/plain": [
       "[5, 5]"
      ]
     },
     "execution_count": 84,
     "metadata": {},
     "output_type": "execute_result"
    }
   ],
   "source": [
    "len_list([1, 2, 3, 4, 5],(100, 200, 300, 400, 500))"
   ]
  },
  {
   "cell_type": "code",
   "execution_count": 85,
   "metadata": {},
   "outputs": [
    {
     "name": "stdout",
     "output_type": "stream",
     "text": [
      "before: [11, 22, 33, 44, 55, 66]\n",
      "after: [11, 22, 33, 44, 55, 198]\n"
     ]
    }
   ],
   "source": [
    "# Write a python function with  for: loop that takes a list of integers and print triples each integer that is even.\n",
    "# Use the continue statement\n",
    "\n",
    "\n",
    "def triple( x ):\n",
    "    numbers = x \n",
    "    print ('before: %s' % (numbers, ))\n",
    "    \n",
    "    for idx, item in enumerate(numbers):\n",
    "        if item % 2 != 0:\n",
    "            continue\n",
    "    numbers[idx] *= 3\n",
    "    print('after: %s' % (numbers, ))\n",
    "\n",
    "triple([11, 22, 33, 44, 55, 66, ])"
   ]
  },
  {
   "cell_type": "code",
   "execution_count": 86,
   "metadata": {},
   "outputs": [],
   "source": [
    "# Write a python function that takes a list of integers and computes the sum of all the integers\n",
    "# up until a zero is found in the list.\n",
    "\n",
    "\n",
    "def sum_util_zero(x):\n",
    "    \n",
    "    total = 0\n",
    "    \n",
    "    for num in x :\n",
    "        if num == 0:\n",
    "            break\n",
    "        else:\n",
    "            total += num\n",
    "    return total"
   ]
  },
  {
   "cell_type": "code",
   "execution_count": 87,
   "metadata": {},
   "outputs": [
    {
     "data": {
      "text/plain": [
       "33"
      ]
     },
     "execution_count": 87,
     "metadata": {},
     "output_type": "execute_result"
    }
   ],
   "source": [
    "sum_util_zero([11, 22, 0, 44, 55, 66, ])"
   ]
  },
  {
   "cell_type": "code",
   "execution_count": 88,
   "metadata": {},
   "outputs": [],
   "source": [
    "# Write a python function which can compute the factorial of a given numbers.\n",
    "# The results should be printed in a comma-separated sequence on a single line.\n",
    "\n",
    "def fact(x):\n",
    "    if x == 0:\n",
    "        return 1\n",
    "    return x * fact(x - 1)\n"
   ]
  },
  {
   "cell_type": "code",
   "execution_count": 89,
   "metadata": {},
   "outputs": [
    {
     "data": {
      "text/plain": [
       "6"
      ]
     },
     "execution_count": 89,
     "metadata": {},
     "output_type": "execute_result"
    }
   ],
   "source": [
    "fact(3)"
   ]
  },
  {
   "cell_type": "code",
   "execution_count": 90,
   "metadata": {},
   "outputs": [
    {
     "name": "stdout",
     "output_type": "stream",
     "text": [
      "{1: 1, 2: 4, 3: 9}\n"
     ]
    }
   ],
   "source": [
    "# With a given integral number n, write a python program to generate a dictionary that contains (i, i*i) such that is an integral number between 1 and n (both included). \n",
    "# and then the program should print the dictionary.\n",
    "\n",
    "raw_input = {1: 1, 2: 4, 3: 9, 4: 16, 5: 25, 6: 36, 7: 49, 8: 64}\n",
    "\n",
    "n=int(3)\n",
    "d=dict()\n",
    "for i in range(1,n+1):\n",
    "    d[i]=i*i\n",
    "\n",
    "print(d)\n"
   ]
  },
  {
   "cell_type": "code",
   "execution_count": 91,
   "metadata": {},
   "outputs": [
    {
     "name": "stdout",
     "output_type": "stream",
     "text": [
      "{'Jupiter', 'Mercury', 'Venus', 'Mars', 'Earth', 'Saturn'}\n"
     ]
    }
   ],
   "source": [
    "# Write a python statement to merge one set into another set, print the result\n",
    "\n",
    "objects = set(['Mars', 'Jupiter', 'Saturn'])\n",
    "internal = set(['Mercury', 'Venus', 'Earth', 'Mars'])\n",
    "objects.update(internal)\n",
    "\n",
    "print(objects)"
   ]
  },
  {
   "cell_type": "code",
   "execution_count": 92,
   "metadata": {},
   "outputs": [
    {
     "name": "stdout",
     "output_type": "stream",
     "text": [
      "12345\n"
     ]
    }
   ],
   "source": [
    "# Write a python regex that find the first group of digits in text . print the findings\n",
    "\n",
    "import re\n",
    "\n",
    "line = 'There is a phone number 12345 in this row and an age: 23'\n",
    "match = re.search(r'\\d+', line)\n",
    "if match :\n",
    "    print(match.group(0))"
   ]
  },
  {
   "cell_type": "code",
   "execution_count": 93,
   "metadata": {},
   "outputs": [
    {
     "name": "stdout",
     "output_type": "stream",
     "text": [
      "['12345', '23']\n"
     ]
    }
   ],
   "source": [
    "# Write a python regex that find all the digits in text . print the findings\n",
    "\n",
    "import re\n",
    "\n",
    "line = 'There is a phone number 12345 in this row and an age: 23'\n",
    "match = re.findall(r'\\d+', line)\n",
    "print(match)"
   ]
  },
  {
   "cell_type": "code",
   "execution_count": 94,
   "metadata": {},
   "outputs": [
    {
     "name": "stdout",
     "output_type": "stream",
     "text": [
      "[('number', '12345'), ('another', '42')]\n"
     ]
    }
   ],
   "source": [
    "# Write a python regex that find all the digits in text and its preceeding words . print the findings\n",
    "\n",
    "line = 'There is a phone number 12345 in this row and another 42 number'\n",
    "matches = re.findall(r'(\\w+) (\\d+)', line)\n",
    "print(matches)"
   ]
  },
  {
   "cell_type": "code",
   "execution_count": 95,
   "metadata": {},
   "outputs": [
    {
     "name": "stdout",
     "output_type": "stream",
     "text": [
      "This is 11 string with 33 numbers: 3434\n"
     ]
    }
   ],
   "source": [
    "# Write a python regex that double whatever the number including in a tex . print the findings\n",
    "\n",
    "text = \"This is 1 string with 3 numbers: 34\"\n",
    "new_text = re.sub(r'(\\d+)', r'\\1\\1', text)\n",
    "print(new_text)\n"
   ]
  },
  {
   "cell_type": "code",
   "execution_count": 96,
   "metadata": {},
   "outputs": [
    {
     "name": "stdout",
     "output_type": "stream",
     "text": [
      "Double the number of 15 = 30\n"
     ]
    }
   ],
   "source": [
    "# Write a Python program to create a function that takes one argument, and that argument will be multiplied with an unknown given number.\n",
    "\n",
    "def func_compute(n):\n",
    "    return lambda x : x * n\n",
    "\n",
    "result = func_compute(2)\n",
    "\n",
    "print(\"Double the number of 15 =\", result(15))\n"
   ]
  },
  {
   "cell_type": "code",
   "execution_count": 97,
   "metadata": {},
   "outputs": [
    {
     "name": "stdout",
     "output_type": "stream",
     "text": [
      "[('Social sciences', 82), ('English', 88), ('Science', 90), ('Maths', 97)]\n"
     ]
    }
   ],
   "source": [
    "# Write a Python program to sort a list of tuples using Lambda . Print the result\n",
    "\n",
    "subject_marks = [('English', 88), ('Science', 90), ('Maths', 97), ('Social sciences', 82)]\n",
    "\n",
    "subject_marks.sort(key = lambda x: x[1])\n",
    "\n",
    "print(subject_marks)"
   ]
  },
  {
   "cell_type": "code",
   "execution_count": 98,
   "metadata": {},
   "outputs": [
    {
     "name": "stdout",
     "output_type": "stream",
     "text": [
      "[{'make': 'Nokia', 'model': 216, 'color': 'Black'}, {'make': 'Samsung', 'model': 7, 'color': 'Blue'}, {'make': 'Mi Max', 'model': '2', 'color': 'Gold'}]\n"
     ]
    }
   ],
   "source": [
    "#  Write a Python program to sort a list of dictionaries using Lambda.  Print the result\n",
    "\n",
    "models = [{'make':'Nokia', 'model':216, 'color':'Black'}, {'make':'Mi Max', 'model':'2', 'color':'Gold'}, {'make':'Samsung', 'model': 7, 'color':'Blue'}]\n",
    "\n",
    "sorted_models = sorted(models, key = lambda x: x['color'])\n",
    "\n",
    "print(sorted_models)"
   ]
  },
  {
   "cell_type": "code",
   "execution_count": 99,
   "metadata": {},
   "outputs": [
    {
     "name": "stdout",
     "output_type": "stream",
     "text": [
      "[2, 4, 6, 8, 10]\n",
      "[1, 3, 5, 7, 9]\n"
     ]
    }
   ],
   "source": [
    "#  Write a Python program to filter even or odd from a list of integers using Lambda.  Print the result\n",
    "\n",
    "nums = [1, 2, 3, 4, 5, 6, 7, 8, 9, 10]\n",
    "\n",
    "even_nums = list(filter(lambda x: x%2 == 0, nums))\n",
    "print(even_nums)\n",
    "\n",
    "odd_nums = list(filter(lambda x: x%2 != 0, nums))\n",
    "print(odd_nums)"
   ]
  },
  {
   "cell_type": "code",
   "execution_count": 100,
   "metadata": {},
   "outputs": [
    {
     "name": "stdout",
     "output_type": "stream",
     "text": [
      "2020-12-20 11:19:09.973207\n",
      "2020\n",
      "12\n",
      "20\n",
      "11:19:09.973207\n"
     ]
    }
   ],
   "source": [
    "# Write a Python program to extract year, month, date and time using Lambda.  Print the result\n",
    "\n",
    "import datetime\n",
    "now = datetime.datetime.now()\n",
    "print(now)\n",
    "year = lambda x: x.year\n",
    "month = lambda x: x.month\n",
    "day = lambda x: x.day\n",
    "t = lambda x: x.time()\n",
    "print(year(now))\n",
    "print(month(now))\n",
    "print(day(now))\n",
    "print(t(now))"
   ]
  },
  {
   "cell_type": "code",
   "execution_count": 101,
   "metadata": {},
   "outputs": [
    {
     "name": "stdout",
     "output_type": "stream",
     "text": [
      "True\n",
      "True\n",
      "False\n",
      "True\n",
      "False\n",
      "True\n",
      "\n",
      "Print checking numbers:\n",
      "True\n",
      "True\n"
     ]
    }
   ],
   "source": [
    "# Write a Python program to check whether a given string is number or not using Lambda  Print the result\n",
    "\n",
    "is_num = lambda q: q.replace('.','',1).isdigit()\n",
    "print(is_num('26587'))\n",
    "print(is_num('4.2365'))\n",
    "print(is_num('-12547'))\n",
    "print(is_num('00'))\n",
    "print(is_num('A001'))\n",
    "print(is_num('001'))\n",
    "print(\"\\nPrint checking numbers:\")\n",
    "is_num1 = lambda r: is_num(r[1:]) if r[0]=='-' else is_num(r)\n",
    "print(is_num1('-16.4'))\n",
    "print(is_num1('-24587.11'))"
   ]
  },
  {
   "cell_type": "code",
   "execution_count": 102,
   "metadata": {},
   "outputs": [
    {
     "name": "stdout",
     "output_type": "stream",
     "text": [
      "Fibonacci series upto 2:\n",
      "[0, 1]\n"
     ]
    }
   ],
   "source": [
    "# Write a Python program to create Fibonacci series upto n using Lambda. Print the result\n",
    "\n",
    "from functools import reduce\n",
    " \n",
    "fib_series = lambda n: reduce(lambda x, _: x+[x[-1]+x[-2]],\n",
    "                                range(n-2), [0, 1])\n",
    " \n",
    "print(\"Fibonacci series upto 2:\")\n",
    "print(fib_series(2))"
   ]
  },
  {
   "cell_type": "code",
   "execution_count": 103,
   "metadata": {},
   "outputs": [
    {
     "name": "stdout",
     "output_type": "stream",
     "text": [
      "Original arrays:\n",
      "[1, 2, 3, 5, 7, 8, 9, 10]\n",
      "[1, 2, 4, 8, 9]\n",
      "\n",
      "Intersection of the said arrays:  [1, 2, 8, 9]\n"
     ]
    }
   ],
   "source": [
    "# Write a Python program to find intersection of two given arrays using Lambda.Print the result\n",
    "\n",
    "array_nums1 = [1, 2, 3, 5, 7, 8, 9, 10]\n",
    "array_nums2 = [1, 2, 4, 8, 9]\n",
    "print(\"Original arrays:\")\n",
    "print(array_nums1)\n",
    "print(array_nums2)\n",
    "result = list(filter(lambda x: x in array_nums1, array_nums2)) \n",
    "print (\"\\nIntersection of the said arrays: \",result)"
   ]
  },
  {
   "cell_type": "code",
   "execution_count": 104,
   "metadata": {},
   "outputs": [
    {
     "name": "stdout",
     "output_type": "stream",
     "text": [
      "Original arrays:\n",
      "[-1, 2, -3, 5, 7, 8, 9, -10]\n",
      "\n",
      "Rearrange positive and negative numbers of the said array:\n",
      "[2, 5, 7, 8, 9, -10, -3, -1]\n"
     ]
    }
   ],
   "source": [
    "# Write a Python program to rearrange positive and negative numbers in a given array using Lambda.Print the result\n",
    "array_nums = [-1, 2, -3, 5, 7, 8, 9, -10]\n",
    "print(\"Original arrays:\")\n",
    "print(array_nums)\n",
    "result = sorted(array_nums, key = lambda i: 0 if i == 0 else -1 / i)\n",
    "print(\"\\nRearrange positive and negative numbers of the said array:\")\n",
    "print(result)"
   ]
  },
  {
   "cell_type": "code",
   "execution_count": 105,
   "metadata": {},
   "outputs": [
    {
     "name": "stdout",
     "output_type": "stream",
     "text": [
      "Original arrays:\n",
      "[1, 2, 3, 5, 7, 8, 9, 10]\n",
      "\n",
      "Number of even numbers in the above array:  3\n",
      "\n",
      "Number of odd numbers in the above array:  5\n"
     ]
    }
   ],
   "source": [
    "# Write a Python program to count the even, odd numbers in a given array of integers using Lambda. Print the result\n",
    "\n",
    "array_nums = [1, 2, 3, 5, 7, 8, 9, 10]\n",
    "print(\"Original arrays:\")\n",
    "print(array_nums)\n",
    "odd_ctr = len(list(filter(lambda x: (x%2 != 0) , array_nums)))\n",
    "even_ctr = len(list(filter(lambda x: (x%2 == 0) , array_nums)))\n",
    "print(\"\\nNumber of even numbers in the above array: \", even_ctr)\n",
    "print(\"\\nNumber of odd numbers in the above array: \", odd_ctr)"
   ]
  },
  {
   "cell_type": "code",
   "execution_count": 106,
   "metadata": {},
   "outputs": [
    {
     "name": "stdout",
     "output_type": "stream",
     "text": [
      "Original list:\n",
      "['4', '12', '45', '7', '0', '100', '200', '-12', '-500']\n",
      "\n",
      "Sort the said list of strings(numbers) numerically:\n",
      "['-500', '-12', '0', '4', '7', '12', '45', '100', '200']\n"
     ]
    }
   ],
   "source": [
    "# Write a Python function to sort a given list of strings(numbers) numerically using lambda. Print an example\n",
    "\n",
    "def sort_numeric_strings(nums_str):\n",
    "    result = sorted(nums_str, key=lambda el: int(el))\n",
    "    return result\n",
    "\n",
    "nums_str = ['4','12','45','7','0','100','200','-12','-500']\n",
    "print(\"Original list:\")\n",
    "print(nums_str)\n",
    "print(\"\\nSort the said list of strings(numbers) numerically:\")\n",
    "print(sort_numeric_strings(nums_str))"
   ]
  },
  {
   "cell_type": "code",
   "execution_count": 107,
   "metadata": {},
   "outputs": [
    {
     "name": "stdout",
     "output_type": "stream",
     "text": [
      "Original list:\n",
      "[3, 4, 5, 8, 0, 3, 8, 5, 0, 3, 1, 5, 2, 3, 4, 2]\n",
      "\n",
      "Count the occurrences of the items in the said list:\n",
      "{3: 4, 4: 2, 5: 3, 8: 2, 0: 2, 1: 1, 2: 2}\n"
     ]
    }
   ],
   "source": [
    "#  Write a Python program to count the occurrences of the items in a given list using lambda. Print an example\n",
    "\n",
    "def count_occurrences(nums):\n",
    "    result = dict(map(lambda el  : (el, list(nums).count(el)), nums))\n",
    "    return result\n",
    "\n",
    "nums = [3,4,5,8,0,3,8,5,0,3,1,5,2,3,4,2]\n",
    "print(\"Original list:\")\n",
    "print(nums)\n",
    "print(\"\\nCount the occurrences of the items in the said list:\")\n",
    "print(count_occurrences(nums))\n"
   ]
  },
  {
   "cell_type": "code",
   "execution_count": 108,
   "metadata": {},
   "outputs": [
    {
     "ename": "IndentationError",
     "evalue": "expected an indented block (<ipython-input-108-c0bcd417a2af>, line 18)",
     "output_type": "error",
     "traceback": [
      "\u001b[1;36m  File \u001b[1;32m\"<ipython-input-108-c0bcd417a2af>\"\u001b[1;36m, line \u001b[1;32m18\u001b[0m\n\u001b[1;33m    result += 2\u001b[0m\n\u001b[1;37m         ^\u001b[0m\n\u001b[1;31mIndentationError\u001b[0m\u001b[1;31m:\u001b[0m expected an indented block\n"
     ]
    }
   ],
   "source": [
    "# Write a Python function to find common divisors between two numbers in a given pair.\n",
    "\n",
    "\n",
    "def ngcd(x, y):\n",
    "    i=1\n",
    "    while(i<=x and i<=y):\n",
    "        if(x%i==0 and y%i == 0):\n",
    "            gcd=i;\n",
    "        i+=1\n",
    "    return gcd;\n",
    "def num_comm_div(x, y):\n",
    "    n = ngcd(x, y)\n",
    "    result = 0\n",
    "    z = int(n**0.5)\n",
    "    i = 1\n",
    "    while( i <= z ):\n",
    "        if(n % i == 0):\n",
    "        result += 2 \n",
    "        if(i == n/i):\n",
    "            result-=1\n",
    "        i+=1\n",
    "    return result\n",
    "\n",
    "print(\"Number of common divisors: \",num_comm_div(2, 4))\n",
    "print(\"Number of common divisors: \",num_comm_div(2, 8))\n",
    "print(\"Number of common divisors: \",num_comm_div(12, 24))"
   ]
  },
  {
   "cell_type": "code",
   "execution_count": null,
   "metadata": {},
   "outputs": [],
   "source": [
    "# Write a Python function to reverse the digits of a given number and add it to the original, \n",
    "# If the sum is not a palindrome repeat this procedure.\n",
    "\n",
    "def rev_number(n):\n",
    "    s = 0\n",
    "    while True:\n",
    "        k = str(n)\n",
    "        if k == k[::-1]:\n",
    "            break\n",
    "        else:\n",
    "            m = int(k[::-1])\n",
    "            n += m\n",
    "            s += 1\n",
    "    return n "
   ]
  },
  {
   "cell_type": "code",
   "execution_count": null,
   "metadata": {},
   "outputs": [],
   "source": [
    "# Write a Python function to create all possible permutations from a given collection of distinct numbers. Print an example\n",
    "\n",
    "def permute(nums):\n",
    "    result_perms = [[]]\n",
    "    for n in nums:\n",
    "        new_perms = []\n",
    "        for perm in result_perms:\n",
    "            for i in range(len(perm)+1):\n",
    "                new_perms.append(perm[:i] + [n] + perm[i:])\n",
    "                result_perms = new_perms\n",
    "    return result_perms\n",
    "\n",
    "my_nums = [1,2,3]\n",
    "print(\"Original Cofllection: \",my_nums)\n",
    "print(\"Collection of distinct numbers:\\n\",permute(my_nums))"
   ]
  },
  {
   "cell_type": "code",
   "execution_count": null,
   "metadata": {},
   "outputs": [],
   "source": [
    "# Write a Python program to get all possible two digit letter combinations from a digit (1 to 9) string.Print an example\n",
    "\n",
    "def letter_combinations(digits):\n",
    "    if digits == \"\":\n",
    "        return []\n",
    "    string_maps = {\n",
    "        \"1\": \"abc\",\n",
    "        \"2\": \"def\",\n",
    "        \"3\": \"ghi\",\n",
    "        \"4\": \"jkl\",\n",
    "        \"5\": \"mno\",\n",
    "        \"6\": \"pqrs\",\n",
    "        \"7\": \"tuv\",\n",
    "        \"8\": \"wxy\",\n",
    "        \"9\": \"z\"\n",
    "    }\n",
    "    result = [\"\"]\n",
    "    for num in digits:\n",
    "        temp = []\n",
    "        for an in result:\n",
    "            for char in string_maps[num]:\n",
    "                temp.append(an + char)\n",
    "        result = temp\n",
    "    return result\n",
    "\n",
    "digit_string = \"47\"\n",
    "print(letter_combinations(digit_string))\n"
   ]
  },
  {
   "cell_type": "code",
   "execution_count": null,
   "metadata": {},
   "outputs": [],
   "source": [
    "# Write a Python function to add two positive integers without using the '+' operator.\n",
    "\n",
    "def add_without_plus_operator(a, b):\n",
    "    while b != 0:\n",
    "        data = a & b\n",
    "        a = a ^ b\n",
    "        b = data << 1\n",
    "    return a\n",
    "    \n",
    "print(add_without_plus_operator(2, 10))\n"
   ]
  },
  {
   "cell_type": "code",
   "execution_count": null,
   "metadata": {},
   "outputs": [],
   "source": [
    "# Write a Python program to find the median among three given numbers.\n",
    "\n",
    "x = 52\n",
    "y = 36\n",
    "z = 25\n",
    "print(\"Median of the above three numbers -\")\n",
    "\n",
    "if y < x and x < z:\n",
    "    print(x)\n",
    "elif z < x and x < y:\n",
    "    print(x)\n",
    "    \n",
    "elif z < y and y < x:\n",
    "    print(y)\n",
    "elif x < y and y < z:\n",
    "    print(y)\n",
    "    \n",
    "elif y < z and z < x:\n",
    "    print(z)    \n",
    "elif x < z and z < y:\n",
    "    print(z)"
   ]
  },
  {
   "cell_type": "code",
   "execution_count": null,
   "metadata": {},
   "outputs": [],
   "source": [
    "# Write a Python function to find the number of zeros at the end of a factorial of a given positive number.\n",
    "\n",
    "def factendzero(n):\n",
    "    \n",
    "    x = n // 5\n",
    "    y = x \n",
    "    while x > 0:\n",
    "        x /= 5\n",
    "        y += int(x)\n",
    "    return y\n",
    "       \n",
    "print(factendzero(5))"
   ]
  },
  {
   "cell_type": "code",
   "execution_count": null,
   "metadata": {},
   "outputs": [],
   "source": [
    "# Write a Python function to find the number of zeros at the end of a factorial of a given positive number.\n",
    "\n",
    "def factendzero(n):\n",
    "    x = n // 5\n",
    "    y = x \n",
    "    while x > 0:\n",
    "      x /= 5\n",
    "      y += int(x)\n",
    "    return y\n",
    "       \n",
    "print(factendzero(5))"
   ]
  },
  {
   "cell_type": "code",
   "execution_count": null,
   "metadata": {},
   "outputs": [],
   "source": [
    "# Write a Python function to find the value of n where n degrees of number 2 are written sequentially in a line without spaces.\n",
    "# print an example\n",
    "\n",
    "def ndegrees(num):\n",
    "    \n",
    "    ans = True\n",
    "    n, tempn, i = 2, 2, 2\n",
    "    while ans:\n",
    "        if str(tempn) in num:\n",
    "            i += 1\n",
    "            tempn = pow(n, i)\n",
    "        else:\n",
    "            ans = False\n",
    "    return i-1\n",
    "\n",
    "\n",
    "print(ndegrees(\"2481632\"))"
   ]
  },
  {
   "cell_type": "code",
   "execution_count": null,
   "metadata": {},
   "outputs": [],
   "source": [
    "# Write a Python function to find the number of notes (Sample of notes: 10, 20, 50, 100, 200 and 500 ) against a given amount.\n",
    "\n",
    "def no_notes(a):\n",
    "    Q = [500, 200, 100, 50, 20, 10]\n",
    "    x = 0\n",
    "    for i in range(6):\n",
    "        q = Q[i]\n",
    "        x += int(a / q)\n",
    "        a = int(a % q)\n",
    "    if a > 0:\n",
    "        x = -1\n",
    "    return x\n",
    "\n",
    "print(no_notes(880))"
   ]
  },
  {
   "cell_type": "code",
   "execution_count": null,
   "metadata": {},
   "outputs": [],
   "source": [
    "# Write a Python function to find the number of divisors of a given integer is even or odd.Print an example\n",
    "\n",
    "def divisor(n):\n",
    "      \n",
    "    for i in range(n):\n",
    "        x = len([i for i in range(1,n+1) if not n % i])\n",
    "    return x\n",
    "\n",
    "print(divisor(15))"
   ]
  },
  {
   "cell_type": "code",
   "execution_count": null,
   "metadata": {},
   "outputs": [],
   "source": [
    "# Write a Python function to find the digits which are absent in a given mobile number.Print an example\n",
    "\n",
    "def absent_digits(n):\n",
    "    \n",
    "    all_nums = set([0,1,2,3,4,5,6,7,8,9])\n",
    "    n = set([int(i) for i in n])\n",
    "    n = n.symmetric_difference(all_nums)\n",
    "    n = sorted(n)\n",
    "    return n\n",
    "\n",
    "print(absent_digits([9,8,3,2,2,0,9,7,6,3]))"
   ]
  },
  {
   "cell_type": "code",
   "execution_count": null,
   "metadata": {},
   "outputs": [],
   "source": [
    "# Write a Python function to compute the summation of the absolute difference of all distinct pairs in an given array (non-decreasing order).\n",
    "\n",
    "def sum_distinct_pairs(arr):\n",
    "    result = 0\n",
    "    i = 0\n",
    "    while i<len(arr):\n",
    "        result+=i*arr[i]-(len(arr)-i-1)*arr[i]\n",
    "        i+=1\n",
    "    return result\n",
    "print(sum_distinct_pairs([1,2,3]))"
   ]
  },
  {
   "cell_type": "code",
   "execution_count": null,
   "metadata": {},
   "outputs": [],
   "source": [
    "# Write a Python function which reads an integer n and find the number of combinations of a,b,c and d (0 ≤ a,b,c,d ≤ 9) where (a + b + c + d) will be equal to n.\n",
    "\n",
    "import itertools\n",
    "print(\"Input the number(n):\")\n",
    "n=5\n",
    "result=0\n",
    "for (i,j,k) in itertools.product(range(10),range(10),range(10)):\n",
    "    result+=(0<=n-(i+j+k)<=9)\n",
    "print(\"Number of combinations:\",result)"
   ]
  },
  {
   "cell_type": "code",
   "execution_count": null,
   "metadata": {},
   "outputs": [],
   "source": [
    "# Write a Python function to count the number of prime numbers less than a given non-negative number. print an example\n",
    "\n",
    "\n",
    "def count_Primes_nums(n):\n",
    "    ctr = 0\n",
    "    \n",
    "    for num in range(n):\n",
    "        if num <= 1:\n",
    "            continue\n",
    "        for i in range(2, num):\n",
    "            if (num % i) == 0:\n",
    "                break\n",
    "        else:\n",
    "            ctr += 1\n",
    "\n",
    "    return ctr\n",
    "\n",
    "print(count_Primes_nums(10))"
   ]
  },
  {
   "cell_type": "code",
   "execution_count": null,
   "metadata": {},
   "outputs": [],
   "source": [
    "# Write a Python function to remove all instances of a given value from a given array of integers and find the length of the new array.\n",
    "\n",
    "def remove_element(array_nums, val):\n",
    "    i = 0\n",
    "    while i < len(array_nums):\n",
    "        if array_nums[i] == val:\n",
    "            array_nums.remove(array_nums[i])\n",
    "\n",
    "        else:\n",
    "            i += 1\n",
    "\n",
    "    return len(array_nums)\n",
    "print(remove_element([1, 2, 3, 4, 5, 6, 7, 5], 5))"
   ]
  },
  {
   "cell_type": "code",
   "execution_count": null,
   "metadata": {},
   "outputs": [],
   "source": [
    "# Write a Python function to compute the largest product of three integers from a given list of integers.\n",
    "# print an example\n",
    "\n",
    "\n",
    "def largest_product_of_three(nums):\n",
    "    max_val = nums[1]\n",
    "\n",
    "    for i in range(len(nums)):\n",
    "        for j in range(i+1, len(nums)):\n",
    "            for k in range(j+1, len(nums)):\n",
    "                max_val = max(nums[i] * nums[j] * nums[k], max_val)\n",
    "                \n",
    "    return max_val\n",
    "    \n",
    "print(largest_product_of_three([-10, -20, 20, 1]))"
   ]
  },
  {
   "cell_type": "code",
   "execution_count": null,
   "metadata": {},
   "outputs": [],
   "source": [
    "# Write a Python function to find the first missing positive integer that does not exist in a given list.\n",
    "\n",
    "\n",
    "def first_missing_number(nums):\n",
    "    if len(nums) == 0:\n",
    "        return 1\n",
    "        \n",
    "    nums.sort()\n",
    "    smallest_int_num = 0\n",
    "    \n",
    "    for i in range(len(nums) - 1):\n",
    "\n",
    "        if nums[i] <= 0 or nums[i] == nums[i + 1]:\n",
    "            continue\n",
    "        else:\n",
    "            if nums[i + 1] - nums[i] != 1:\n",
    "                smallest_int_num = nums[i] + 1\n",
    "                return smallest_int_num    \n",
    "    if smallest_int_num == 0:\n",
    "        smallest_int_num = nums[-1] + 1\n",
    "    return smallest_int_num\n"
   ]
  },
  {
   "cell_type": "code",
   "execution_count": null,
   "metadata": {},
   "outputs": [],
   "source": [
    "# Write a Python program to randomly generate a list with 10 even numbers between 1 and 100 inclusive.\n",
    "# print\n",
    "\n",
    "import random\n",
    "print(random.sample([i for i in range(1,100) if i%2==0], 10))\n"
   ]
  },
  {
   "cell_type": "code",
   "execution_count": null,
   "metadata": {},
   "outputs": [],
   "source": [
    "# Write a Python function to test whether a given number is symmetrical or not.\n",
    "# A number is symmetrical when it is equal of its reverse.\n",
    "\n",
    "\n",
    "def is_symmetrical_num(n):\n",
    "    return str(n) == str(n)[::-1]\n",
    "\n",
    "print(is_symmetrical_num(121))"
   ]
  },
  {
   "cell_type": "code",
   "execution_count": null,
   "metadata": {},
   "outputs": [],
   "source": [
    "# Write a Python function that accept a list of numbers and create a list to store the count of negative number in \n",
    "# first element and store the sum of positive numbers in second element.\n",
    "\n",
    "def count_sum(nums):\n",
    "    if not nums: return []\n",
    "    return [len([n for n in nums if n < 0]), sum(n for n in nums if n > 0)]"
   ]
  },
  {
   "cell_type": "code",
   "execution_count": null,
   "metadata": {},
   "outputs": [],
   "source": [
    "# Write a Python function to count the number of equal numbers from three given integers.\n",
    "\n",
    "def test_three_equal(x, y, z):\n",
    "    result= set([x, y, z])\n",
    "    if len(result)==3:\n",
    "        return 0\n",
    "    else:\n",
    "        return (4 - len(result))"
   ]
  },
  {
   "cell_type": "code",
   "execution_count": null,
   "metadata": {},
   "outputs": [],
   "source": [
    "# Write a Python function that accept two strings and test if the letters in the second string are present in the first string.\n",
    "\n",
    "def string_letter_check(list_data):\n",
    "    return all([char in list_data[0].lower() for char in list_data[1].lower()])"
   ]
  },
  {
   "cell_type": "code",
   "execution_count": null,
   "metadata": {},
   "outputs": [],
   "source": [
    "# Write a Python function to compute the sum of the three lowest positive numbers from a given list of numbers.\n",
    "\n",
    "def sum_three_smallest_nums(lst):\n",
    "    return sum(sorted([x for x in lst if x > 0])[:3])"
   ]
  },
  {
   "cell_type": "code",
   "execution_count": null,
   "metadata": {},
   "outputs": [],
   "source": [
    "# Write a Python function to replace all but the last five characters of a given string into \"*\" and returns the new masked string.\n",
    "\n",
    "def mask_string(str1):\n",
    "    return '*'*(len(str1)-5) + str1[-5:]\n",
    "\n",
    "print(mask_string(\"kdi39323swe\"))"
   ]
  },
  {
   "cell_type": "code",
   "execution_count": null,
   "metadata": {},
   "outputs": [],
   "source": [
    "# Write a Python function to count the number of arguments in a given function.\n",
    "\n",
    "def num_of_args(*args):\n",
    "    return(len(args))\n"
   ]
  },
  {
   "cell_type": "code",
   "execution_count": null,
   "metadata": {},
   "outputs": [],
   "source": [
    "# Write a Python function to compute cumulative sum of numbers of a given list.\n",
    "\n",
    "def nums_cumulative_sum(nums_list):\n",
    "    return [sum(nums_list[:i+1]) for i in range(len(nums_list))]"
   ]
  },
  {
   "cell_type": "code",
   "execution_count": null,
   "metadata": {},
   "outputs": [],
   "source": [
    "# Write a Python function to check whether every even index contains an even number and every odd index contains odd number of a given list.\n",
    "\n",
    "def odd_even_position(nums):\n",
    "    return all(nums[i]%2==i%2 for i in range(len(nums)))"
   ]
  },
  {
   "cell_type": "code",
   "execution_count": null,
   "metadata": {},
   "outputs": [],
   "source": [
    "# Write a Python function to find the highest and lowest number from a given string of space separated integers.\n",
    "\n",
    "def highest_lowest_num(str1):\n",
    "    num_list = list(map(int, str1.split()))\n",
    "    return max(num_list), min(num_list)"
   ]
  },
  {
   "cell_type": "code",
   "execution_count": null,
   "metadata": {},
   "outputs": [],
   "source": [
    "# Write a Python function to check whether a sequence of numbers has an increasing trend or not.\n",
    "\n",
    "def increasing_trend(nums):\n",
    "    if (sorted(nums) == nums):\n",
    "        return True\n",
    "    else:\n",
    "        return False"
   ]
  },
  {
   "cell_type": "code",
   "execution_count": null,
   "metadata": {},
   "outputs": [],
   "source": [
    "# Write a Python function to find the position of the second occurrence of a given string in another given string. If there is no such string return -1.\n",
    "\n",
    "def find_string(txt, str1):\n",
    "    return txt.find(str1, txt.find(str1)+1)"
   ]
  },
  {
   "cell_type": "code",
   "execution_count": null,
   "metadata": {},
   "outputs": [],
   "source": [
    "# Write a Python funciton to compute the sum of all items of a given array of integers where each integer is multiplied by its index. Return 0 if there is no num\n",
    "\n",
    "def sum_index_multiplier(nums):\n",
    "    return sum(j*i for i, j in enumerate(nums))"
   ]
  },
  {
   "cell_type": "code",
   "execution_count": null,
   "metadata": {},
   "outputs": [],
   "source": [
    "# Write a Python function to find the name of the oldest student from a given dictionary containing the names and ages of a group of students.\n",
    "# print an example\n",
    "\n",
    "def oldest_student(students):\n",
    "    return max(students, key=students.get)\n",
    "\n",
    "print(oldest_student({\"Bernita Ahner\": 12, \"Kristie Marsico\": 11, \n",
    "                      \"Sara Pardee\": 14, \"Fallon Fabiano\": 11, \n",
    "                      \"Nidia Dominique\": 15})) "
   ]
  },
  {
   "cell_type": "code",
   "execution_count": null,
   "metadata": {},
   "outputs": [],
   "source": [
    "# Write a Python function to create a new string with no duplicate consecutive letters from a given string.\n",
    "\n",
    "def no_consecutive_letters (txt):\n",
    "    return txt[0] + ''.join(txt[i] for i in range(1,len(txt)) if txt[i] != txt[i-1])"
   ]
  },
  {
   "cell_type": "code",
   "execution_count": null,
   "metadata": {},
   "outputs": [],
   "source": [
    "# Write a Python function to create a new string with no duplicate consecutive letters from a given string.\n",
    "# print an example\n",
    "\n",
    "def lucky_Numbers(matrix):\n",
    "    result = set(map(min, matrix)) & set(map(max, zip(*matrix)))\n",
    "    return list(result)\n",
    "\n",
    "m1 = [[1,2], [2,3]]\n",
    "print(\"Original matrix:\",m1)\n",
    "print(\"Lucky number(s) in the said matrix: \",lucky_Numbers(m1))"
   ]
  },
  {
   "cell_type": "code",
   "execution_count": null,
   "metadata": {},
   "outputs": [],
   "source": [
    "# Write a Python function that takes three integers and check whether the last digit of first number * the last digit of second number = the last digit of third number.\n",
    "\n",
    "def check_last_digit(x, y, z):\n",
    "    return str(x*y)[-1] == str(z)[-1]"
   ]
  },
  {
   "cell_type": "code",
   "execution_count": null,
   "metadata": {},
   "outputs": [],
   "source": [
    "# Write a Python function find the indices of all occurrences of a given item in a given list.\n",
    "\n",
    "def indices_in_list(nums_list, n):\n",
    "    return [idx for idx, i in enumerate(nums_list) if i == n]"
   ]
  }
 ],
 "metadata": {
  "kernelspec": {
   "display_name": "Python 3",
   "language": "python",
   "name": "python3"
  },
  "language_info": {
   "codemirror_mode": {
    "name": "ipython",
    "version": 3
   },
   "file_extension": ".py",
   "mimetype": "text/x-python",
   "name": "python",
   "nbconvert_exporter": "python",
   "pygments_lexer": "ipython3",
   "version": "3.7.7"
  }
 },
 "nbformat": 4,
 "nbformat_minor": 4
}
