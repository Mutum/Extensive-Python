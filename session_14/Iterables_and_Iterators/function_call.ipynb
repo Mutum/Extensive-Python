{
 "cells": [
  {
   "cell_type": "code",
   "execution_count": 17,
   "metadata": {},
   "outputs": [],
   "source": [
    "from polygon import Polygon as Polygon\n",
    "from custom_polygon import Polygons as Polygons"
   ]
  },
  {
   "cell_type": "markdown",
   "metadata": {},
   "source": [
    "## Creating polygon of edges 3 untill 25 with same circumradius 10"
   ]
  },
  {
   "cell_type": "code",
   "execution_count": 24,
   "metadata": {},
   "outputs": [
    {
     "data": {
      "text/plain": [
       "[(Polygon(n=3, R=10), 2.5000000000000004),\n",
       " (Polygon(n=4, R=10), 3.535533905932738),\n",
       " (Polygon(n=5, R=10), 4.045084971874737),\n",
       " (Polygon(n=6, R=10), 4.330127018922194),\n",
       " (Polygon(n=7, R=10), 4.504844339512096),\n",
       " (Polygon(n=8, R=10), 4.619397662556434),\n",
       " (Polygon(n=9, R=10), 4.698463103929543),\n",
       " (Polygon(n=10, R=10), 4.755282581475767),\n",
       " (Polygon(n=11, R=10), 4.7974648680724865),\n",
       " (Polygon(n=12, R=10), 4.8296291314453415),\n",
       " (Polygon(n=13, R=10), 4.85470908713026),\n",
       " (Polygon(n=14, R=10), 4.874639560909118),\n",
       " (Polygon(n=15, R=10), 4.8907380036690284),\n",
       " (Polygon(n=16, R=10), 4.903926402016152),\n",
       " (Polygon(n=17, R=10), 4.914865498419509),\n",
       " (Polygon(n=18, R=10), 4.92403876506104),\n",
       " (Polygon(n=19, R=10), 4.931806517013611),\n",
       " (Polygon(n=20, R=10), 4.938441702975689),\n",
       " (Polygon(n=21, R=10), 4.944154131125643),\n",
       " (Polygon(n=22, R=10), 4.949107209404663),\n",
       " (Polygon(n=23, R=10), 4.953429730181654),\n",
       " (Polygon(n=24, R=10), 4.957224306869052),\n",
       " (Polygon(n=25, R=10), 4.9605735065723895)]"
      ]
     },
     "execution_count": 24,
     "metadata": {},
     "output_type": "execute_result"
    }
   ],
   "source": [
    "custom_polygons = Polygons(25, 10)\n",
    "\n",
    "# list of all polygon with ther area by perimeter ratio\n",
    "\n",
    "[(poly, poly.area/poly.perimeter) for poly in custom_polygons]"
   ]
  },
  {
   "cell_type": "code",
   "execution_count": 25,
   "metadata": {},
   "outputs": [
    {
     "data": {
      "text/plain": [
       "Polygon(n=25, R=10)"
      ]
     },
     "execution_count": 25,
     "metadata": {},
     "output_type": "execute_result"
    }
   ],
   "source": [
    "# most efficient polygon\n",
    "\n",
    "custom_polygons.max_efficiency_polygon"
   ]
  },
  {
   "cell_type": "code",
   "execution_count": null,
   "metadata": {},
   "outputs": [],
   "source": []
  }
 ],
 "metadata": {
  "kernelspec": {
   "display_name": "Python 3",
   "language": "python",
   "name": "python3"
  },
  "language_info": {
   "codemirror_mode": {
    "name": "ipython",
    "version": 3
   },
   "file_extension": ".py",
   "mimetype": "text/x-python",
   "name": "python",
   "nbconvert_exporter": "python",
   "pygments_lexer": "ipython3",
   "version": "3.7.7"
  }
 },
 "nbformat": 4,
 "nbformat_minor": 4
}
